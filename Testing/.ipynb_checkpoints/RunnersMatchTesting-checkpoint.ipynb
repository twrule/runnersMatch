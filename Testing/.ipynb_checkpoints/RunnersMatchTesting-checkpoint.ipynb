{
 "cells": [
  {
   "cell_type": "code",
   "execution_count": 2,
   "metadata": {},
   "outputs": [],
   "source": [
    "from selenium import webdriver\n",
    "from selenium.common.exceptions import NoSuchElementException\n",
    "import time\n",
    "import os\n",
    "import sys\n",
    "\n",
    "from IPython.display import Image\n",
    "\n",
    "#a function to create an instance of the webdriver\n",
    "def get_browser():\n",
    "    options = webdriver.ChromeOptions()\n",
    "    return webdriver.Chrome(options=options)\n",
    "def test_signup(browser,fullname,email,password): #tests creating an account in the website\n",
    "    #fullname= the username going to be used by said account\n",
    "    #email= email to be associated with the test account\n",
    "    #password= password to be used by said email account\n",
    "    browser.find_element_by_partial_link_text(\"Sign In\").click()\n",
    "    browser.find_element_by_partial_link_text(\"Sign Up!\").click()\n",
    "    browser.find_element_by_name('username').send_keys(fullname)\n",
    "    browser.find_element_by_name('email').send_keys(email)\n",
    "    browser.find_element_by_name('passwordOne').send_keys(password)\n",
    "    browser.find_element_by_name('passwordTwo').send_keys(password)\n",
    "    browser.find_element_by_xpath('//button[contains(text(), \"Sign Up\")]').click()\n",
    "def test_account(browser,weeklymileage,avgpace,M,zipCode):\n",
    "    #browser.find_element_by_partial_link_text(\"Account\").click()\n",
    "    time.sleep(2)\n",
    "    browser.find_element_by_name('avgweeklymileage').send_keys(weeklymileage)\n",
    "    browser.find_element_by_name('avgpace').send_keys(avgpace)\n",
    "    browser.find_element_by_name('userGender').send_keys(M)\n",
    "    browser.find_element_by_name('zipCode').send_keys(zipCode)\n",
    "    browser.find_element_by_xpath('//button[contains(text(), \"Update Profile\")]').click()"
   ]
  },
  {
   "cell_type": "code",
   "execution_count": 7,
   "metadata": {},
   "outputs": [
    {
     "name": "stdout",
     "output_type": "stream",
     "text": [
      "All done.\n"
     ]
    }
   ],
   "source": [
    "link= \"http://localhost:3000\"\n",
    "try:\n",
    "    with get_browser() as browser:\n",
    "        for i in range(20):\n",
    "            browser.get(link)\n",
    "            test_signup(browser,\"mtests\"+str(i),\"tests\"+str(i)+\"@test.com\",\"password\")\n",
    "            test_account(browser,\"20\",\"5:40\",\"M\",\"95123\")\n",
    "            time.sleep(5)\n",
    "except KeyboardInterrupt:\n",
    "    print('All done.')\n",
    "    pass"
   ]
  },
  {
   "cell_type": "code",
   "execution_count": null,
   "metadata": {},
   "outputs": [],
   "source": []
  }
 ],
 "metadata": {
  "kernelspec": {
   "display_name": "Python 3",
   "language": "python",
   "name": "python3"
  },
  "language_info": {
   "codemirror_mode": {
    "name": "ipython",
    "version": 3
   },
   "file_extension": ".py",
   "mimetype": "text/x-python",
   "name": "python",
   "nbconvert_exporter": "python",
   "pygments_lexer": "ipython3",
   "version": "3.7.4"
  }
 },
 "nbformat": 4,
 "nbformat_minor": 2
}
